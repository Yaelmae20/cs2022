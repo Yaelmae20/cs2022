{
  "nbformat": 4,
  "nbformat_minor": 0,
  "metadata": {
    "colab": {
      "provenance": []
    },
    "kernelspec": {
      "name": "python3",
      "display_name": "Python 3"
    },
    "language_info": {
      "name": "python"
    }
  },
  "cells": [
    {
      "cell_type": "markdown",
      "source": [
        "# **Kun Shan University Computer Science Midterm Exam**"
      ],
      "metadata": {
        "id": "xHc7Tz_CDKdd"
      }
    },
    {
      "cell_type": "markdown",
      "source": [
        "Name: 葉梅 SID: 4110E241"
      ],
      "metadata": {
        "id": "s2I93fYtDMeM"
      }
    },
    {
      "cell_type": "markdown",
      "source": [
        "# **1**"
      ],
      "metadata": {
        "id": "DBu9jfYMDs_t"
      }
    },
    {
      "cell_type": "markdown",
      "source": [
        "What can Python do?\n",
        "\n",
        "(A)Python can be used on a server to create web applications.\n",
        "\n",
        "(B)Python can be used alongside software to create workflows.\n",
        "\n",
        "(C)Python can connect to database systems. It can also read and modify files.\n",
        "\n",
        "(D)Python can be used to handle big data and perform complex mathematics.\n",
        "\n",
        "answer: (https:///www.w3schools.com/python/python_intro.asp)\n",
        "\n",
        "(A)Python can be used on a server to create web applications.\n",
        "\n",
        "(B)Python can be used alongside software to create workflows.\n",
        "\n",
        "(C)Python can connect to database systems. It can also read and modify files.\n",
        "\n",
        "(D)Python can be used to handle big data and perform complex mathematics."
      ],
      "metadata": {
        "id": "WK9LY6m3Dyk8"
      }
    },
    {
      "cell_type": "markdown",
      "source": [
        "# **2**"
      ],
      "metadata": {
        "id": "OoADPqDSD1SN"
      }
    },
    {
      "cell_type": "markdown",
      "source": [
        "Python uses __________ to indicate a block of code (A) [] (B){} (C) () (D) indentation\n",
        "\n",
        "answer: (https://www.w3schools.com/python/python_syntax.asp)\n",
        "\n",
        "(D)Python uses indentation to indicate a block of code."
      ],
      "metadata": {
        "id": "1lSk0NNpD3_Q"
      }
    },
    {
      "cell_type": "markdown",
      "source": [
        "\n",
        "# **3**"
      ],
      "metadata": {
        "id": "6wWaGEkJD58I"
      }
    },
    {
      "cell_type": "markdown",
      "source": [
        "Python has commenting capability for the purpose of in-code documentation. Comments start with a __________ (A)A (B) # (C) / (D)&\n",
        "\n",
        "answer:(https://www.w3schools.com/python/python_comments.asp)\n",
        "\n",
        "(B) # Comments starts with a #, and Python will ignore them"
      ],
      "metadata": {
        "id": "ntQer1eoD79Y"
      }
    },
    {
      "cell_type": "markdown",
      "source": [
        "# **10**"
      ],
      "metadata": {
        "id": "bbrSahawD-iV"
      }
    },
    {
      "cell_type": "markdown",
      "source": [
        "Which function can returns the length of a string? a = \"Hello, Pythonian!\" print(_________) (A) len(a) (B) length(a) (C) count(a) (D) num(a)\n",
        "\n",
        "answer:(https://www.w3schools.com/python/gloss_python_string_length.asp%5C)\n",
        "\n",
        "a = \"Hello, Pythonian!\"\n",
        "\n",
        "print(len(a))\n",
        "\n",
        "(A) len(a)"
      ],
      "metadata": {
        "id": "S-h78_QoEBTs"
      }
    },
    {
      "cell_type": "markdown",
      "source": [
        "# **15**"
      ],
      "metadata": {
        "id": "nLfm_AJ0EDdw"
      }
    },
    {
      "cell_type": "markdown",
      "source": [
        "Python has a set of built-in methods that you can use on strings. Which method can converts string into lower case ? (A)capitalize() (B) casefold() (C) lower() (D)expandtabs()\n",
        "\n",
        "answer:(https://www.w3schools.com/python/ref_string_casefold.asp)\n",
        "\n",
        "(B) casefold(), (C) lower()"
      ],
      "metadata": {
        "id": "2uWDe1XEEFr5"
      }
    },
    {
      "cell_type": "markdown",
      "source": [
        "# **16**"
      ],
      "metadata": {
        "id": "0l4EwS1uEH8D"
      }
    },
    {
      "cell_type": "markdown",
      "source": [
        "Python Booleans\n",
        "\n",
        "Which one of the following statements is wrong?\n",
        "\n",
        "(A) Booleans represent one of two values: True or False.\n",
        "\n",
        "(B) The bool() function allows you to evaluate any value, and give you True or False in return,\n",
        "\n",
        "(C) print(10 > 9) will output True\n",
        "\n",
        "(D) print(10 = 9) will output True\n",
        "\n",
        "answer:(https://www.w3schools.com/python/python_booleans.asp)\n",
        "\n",
        "(D) print(10 = 9) will output True"
      ],
      "metadata": {
        "id": "wJ0d8K1uEKuY"
      }
    },
    {
      "cell_type": "markdown",
      "source": [
        "# **17**"
      ],
      "metadata": {
        "id": "CZtQAjobEMwo"
      }
    },
    {
      "cell_type": "markdown",
      "source": [
        "Python Lists\n",
        "\n",
        "Which of the following statements is wrong?\n",
        "\n",
        "(A) Lists are used to store multiple items in a single variable.\n",
        "\n",
        "(B) Lists are created using square brackets\n",
        "\n",
        "(C) List items are ordered, changeable, and allow duplicate values.\n",
        "\n",
        "(D) Lists can not have items with the same value\n",
        "\n",
        "answer:(https://www.w3schools.com/python/python_lists.asp)\n",
        "\n",
        "(D) Lists can not have items with the same value"
      ],
      "metadata": {
        "id": "Ptvm_9PqEOx_"
      }
    },
    {
      "cell_type": "markdown",
      "source": [
        "# **19**"
      ],
      "metadata": {
        "id": "FeFWgIfSESiH"
      }
    },
    {
      "cell_type": "markdown",
      "source": [
        "Python has a set of built-in methods that you can use on dictionaries. Which statements are correct ?\n",
        "\n",
        "(A) clear() will removes all the elements from the dictionary\n",
        "\n",
        "(B) copy() will returns a copy of the dictionary\n",
        "\n",
        "(C) items() will returns a list containing a tuple for each key value pair\n",
        "\n",
        "(D) popitem() will removes the last inserted key-value pair\n",
        "\n",
        "answer:(https://www.w3schools.com/python/python_ref_dictionary.asp)\n",
        "\n",
        "(A)clear() Removes all the elements from the dictionary\n",
        "\n",
        "(B)copy() Returns a copy of the dictionary\n",
        "\n",
        "(C)items() Returns a list containing a tuple for each key value pair\n",
        "\n",
        "(D)popitem() Removes the last inserted key-value pair"
      ],
      "metadata": {
        "id": "yRVmqVXCEUgr"
      }
    },
    {
      "cell_type": "markdown",
      "source": [
        "# **20**"
      ],
      "metadata": {
        "id": "sVeiAXswEWm5"
      }
    },
    {
      "cell_type": "markdown",
      "source": [
        "Python supports the usual logical conditions from mathematics:\n",
        "\n",
        "Which statements are correct ?\n",
        "\n",
        "(A)Equals: a = b\n",
        "\n",
        "(B)Not Equals: a != b\n",
        "\n",
        "(C)Less than or equal to: a <= b\n",
        "\n",
        "(D)Greater than: a > b\n",
        "\n",
        "answer: (https://.w3schools.com/python/python_operators.asp)\n",
        "\n",
        "(B)Not Equals: a != b\n",
        "\n",
        "(C)Less than or equal to: a <= b\n",
        "\n",
        "(D)Greater than: a > b"
      ],
      "metadata": {
        "id": "cAXOlgTvEZtf"
      }
    },
    {
      "cell_type": "markdown",
      "source": [
        "# **23**"
      ],
      "metadata": {
        "id": "Lpdk8F0SEb7c"
      }
    },
    {
      "cell_type": "markdown",
      "source": [
        "If the function\n",
        "\n",
        "int volume (int x = 1, int y = 1, int z = 1);\n",
        "\n",
        "is called by the expression volume (7,8), how many default arguments are used?\n",
        "\n",
        "(A) None (B) One (C) Two (D) Three\n",
        "\n",
        "(E) It depends on the runtime environment.\n",
        "\n",
        "answer:(https://www.programiz.com/python-programming/function-argument)\n",
        "\n",
        "(C) Two"
      ],
      "metadata": {
        "id": "XWk8WkYoEdy4"
      }
    },
    {
      "cell_type": "code",
      "source": [],
      "metadata": {
        "id": "twB3jkTQEitg"
      },
      "execution_count": null,
      "outputs": []
    }
  ]
}