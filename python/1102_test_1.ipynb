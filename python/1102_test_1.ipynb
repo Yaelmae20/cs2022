{
  "nbformat": 4,
  "nbformat_minor": 0,
  "metadata": {
    "colab": {
      "provenance": []
    },
    "kernelspec": {
      "name": "python3",
      "display_name": "Python 3"
    },
    "language_info": {
      "name": "python"
    }
  },
  "cells": [
    {
      "cell_type": "markdown",
      "source": [
        "# 1102 Test "
      ],
      "metadata": {
        "id": "ybKAOCu1tqtv"
      }
    },
    {
      "cell_type": "markdown",
      "source": [
        "Multiple Choice"
      ],
      "metadata": {
        "id": "IPSN3Mriv5B_"
      }
    },
    {
      "cell_type": "markdown",
      "source": [
        "## 1"
      ],
      "metadata": {
        "id": "k98Pfab4v9Wm"
      }
    },
    {
      "cell_type": "markdown",
      "source": [
        "```\n",
        "Which following is the correct way to create a dictionary in Python?\n",
        "   (A) students = { 'name' => 'alice' ;  'score' =>60 }\n",
        "   (B) students = { 'name' = 'alice' ;  'score' =60 }\n",
        "   (C) students = { 'name' : 'alice' ;  'score' : 60 }\n",
        "   (D) students = { 'name' => 'alice' ,  'score' =>60 }\n",
        "   (E) students = { 'name' : 'alice' , 'score' : 60 }\n",
        "\n"
      ],
      "metadata": {
        "id": "OqDqNl4pwAl2"
      }
    },
    {
      "cell_type": "markdown",
      "source": [
        "Answer: **(E) students = { 'name' : 'alice' , 'score' : 60 }**"
      ],
      "metadata": {
        "id": "zJc_0YijwHOo"
      }
    },
    {
      "cell_type": "markdown",
      "source": [
        "## 2"
      ],
      "metadata": {
        "id": "dQdlyPUVwtzO"
      }
    },
    {
      "cell_type": "markdown",
      "source": [
        "```\n",
        " What does the following Python program fragment do?s=0\n",
        "   for i in range (3 , 10) :\n",
        "        s+=i\n",
        "   print (s)\n",
        "   (A) Calculate the sum of 1+2+…+10\n",
        "   (B) Calculate the sum of 1+4+7+10\n",
        "   (C) Calculate the sum of 3+4+5+6+…+9\n",
        "   (D) Calculate the sum of 3+4+5+6+…+10\n",
        "   (E) Calculate the sum of 0+2+4+6+…+10 \n",
        "  "
      ],
      "metadata": {
        "id": "WvD61UGpw7TW"
      }
    },
    {
      "cell_type": "markdown",
      "source": [
        "Answer: **(C) Calculate the sum of 3+4+5+6+…+9**\n",
        "```\n",
        "range(3,10) ==> 3,4,5,6,7,8,9\n",
        "                3+4+5+6+7+8+9\n",
        "                42\n",
        "\n",
        "                3+4+5+6+7+8+9 #10 is not included\n",
        "```"
      ],
      "metadata": {
        "id": "B8a6Q6Eqxgl8"
      }
    },
    {
      "cell_type": "markdown",
      "source": [
        "# 3"
      ],
      "metadata": {
        "id": "eCPzs5HqyKYc"
      }
    },
    {
      "cell_type": "markdown",
      "source": [
        "```python\n",
        "What is the output of this code in Python?\n",
        "      list = [ ' a ' ,  ' b ' ,  ' c ' ,  ' d ' ,  ' e ' ]\n",
        "      print (list [ 1 : ])\n",
        "   (A) [ ]\n",
        "   (B) [ 'b' ]\n",
        "   (C) [ 'a' ,  'b' ]\n",
        "   (D) [ 'b' ,  'c' ,  'd' ,  'e' ]\n",
        "```"
      ],
      "metadata": {
        "id": "UBA4VOloyLdL"
      }
    },
    {
      "cell_type": "markdown",
      "source": [
        "Answer: **(D) [ 'b' ,  'c' ,  'd' ,  'e' ]**"
      ],
      "metadata": {
        "id": "HQ_ngbDuyQoy"
      }
    },
    {
      "cell_type": "markdown",
      "source": [
        "# 4"
      ],
      "metadata": {
        "id": "HbKo_dvMyRn7"
      }
    },
    {
      "cell_type": "markdown",
      "source": [
        "```python\n",
        "What is the output of this code in Python?\n",
        "        L1 = [ ]\n",
        "        L1.append ( [1, [2, 3], 4] )\n",
        "        L1.extend ( [7, 8, 9] )\n",
        "        print(L1[0][1][1] + L1[2] )\n",
        "   (A) 3  (B) 8  (C) 11  (D) 38  (E) None of these\n",
        "```\n"
      ],
      "metadata": {
        "id": "oWC2ivY5yUaL"
      }
    },
    {
      "cell_type": "markdown",
      "source": [
        "Answer: **(C) 11**"
      ],
      "metadata": {
        "id": "IplgvvvLyVmm"
      }
    },
    {
      "cell_type": "markdown",
      "source": [
        "# 5"
      ],
      "metadata": {
        "id": "C2ZNEBZzyYZl"
      }
    },
    {
      "cell_type": "markdown",
      "source": [
        "```python\n",
        "What is the output of this code in python?\n",
        "        r = lambda q: q * 2\n",
        "        s = lambda q: q * 3\n",
        "        x = 2\n",
        "        x = r (x)\n",
        "        x = s (x)\n",
        "        x = r (x)\n",
        "        print (x)\n",
        "   (A) 2  (B) 4  (C) 6  (D) 12  (E) 24\n",
        "```"
      ],
      "metadata": {
        "id": "yQhofKm2yZp8"
      }
    },
    {
      "cell_type": "markdown",
      "source": [
        "Answer: **(E) 24**\n"
      ],
      "metadata": {
        "id": "7Qm-8ZnjybAl"
      }
    },
    {
      "cell_type": "markdown",
      "source": [
        "# 6\n"
      ],
      "metadata": {
        "id": "6dctrqSKyc-F"
      }
    },
    {
      "cell_type": "markdown",
      "source": [
        "```python\n",
        "Which of the following conditions correctly describes the output of this code in  Python?\n",
        "         first = [1 , 2 , 3 , 4 , 5]\n",
        "         second = first\n",
        "         second.append (6)\n",
        "         print (first)\n",
        "         print (second)\n",
        "   (A) first=[1, 2, 3, 4, 5], second=[1, 2, 3, 4, 5, 6]\n",
        "   (B) first=[1, 2, 3, 4, 5, 6], second=[1, 2, 3, 4, 5]\n",
        "   (C) first=[1, 2, 3, 4, 5], second=[1, 2, 3, 4, 5]\n",
        "   (D) first=[1, 2, 3, 4, 5, 6], second=[1, 2, 3, 4, 5, 6]\n",
        "   (E) None of these\n",
        "```"
      ],
      "metadata": {
        "id": "1NGr467Myd2u"
      }
    },
    {
      "cell_type": "markdown",
      "source": [
        "Answer: **(D) first=[1, 2, 3, 4, 5, 6], second=[1, 2, 3, 4, 5, 6]**"
      ],
      "metadata": {
        "id": "Sv0rqctEyhM-"
      }
    },
    {
      "cell_type": "markdown",
      "source": [
        "#7"
      ],
      "metadata": {
        "id": "pKqTkotlyimM"
      }
    },
    {
      "cell_type": "markdown",
      "source": [
        "```python\n",
        "If the function \n",
        "int volume (int x = 1, int y = 1, int z = 1); \n",
        "is called by the expression volume (7,8), \n",
        "how many default arguments are used?\n",
        "(A) None  (B) One  (C) Two  (D) Three\n",
        "(E) It depends on the runtime environment.\n",
        "```"
      ],
      "metadata": {
        "id": "0iGVRJImylur"
      }
    },
    {
      "cell_type": "markdown",
      "source": [
        "Answer: **(B) One**"
      ],
      "metadata": {
        "id": "ZY0wqvqmyze7"
      }
    },
    {
      "cell_type": "markdown",
      "source": [
        "# B1"
      ],
      "metadata": {
        "id": "qXbag7vWy0wM"
      }
    },
    {
      "cell_type": "markdown",
      "source": [
        "- B1.What is the output of this code in Python? explain it.\n",
        "```python\n",
        "hashtag primes.py\n",
        "primes = []  # this will contain the primes at the end\n",
        "upto = 100  # the limit, inclusive\n",
        "for n in range(2, upto + 1):\n",
        "    is_prime = True  # flag, new at each iteration of outer for\n",
        "    for divisor in range(2, n):\n",
        "        if n % divisor == 0:\n",
        "            is_prime = False\n",
        "            break\n",
        "    if is_prime:  # check on flag\n",
        "        primes.append(n)\n",
        "print(primes)\n",
        "```"
      ],
      "metadata": {
        "id": "GxMDAiQ5y2RE"
      }
    },
    {
      "cell_type": "markdown",
      "source": [
        "Answer: Only Prime numbers from 2-100 will become the output since the condition says Prime= True, \"prime numbers will appear\" if it's not then it will not be on the output.\n",
        "\n",
        "[2, 3, 5, 7, 11, 13, 17, 19, 23, 29, 31, 37, 41, 43, 47, 53, 59, 61, 67, 71, 73, 79, 83, 89, 97]"
      ],
      "metadata": {
        "id": "iVP8IAPYzHKK"
      }
    },
    {
      "cell_type": "markdown",
      "source": [
        "# B2"
      ],
      "metadata": {
        "id": "nE8cbonrzIYK"
      }
    },
    {
      "cell_type": "markdown",
      "source": [
        "- B2.What is the output of this code in Python? explain it.\n",
        "```python\n",
        "hashtag primes.else.py\n",
        "primes = []\n",
        "upto = 100\n",
        "for n in range(2, upto + 1):\n",
        "    for divisor in range(2, n):\n",
        "        if n % divisor == 0:\n",
        "            break\n",
        "    else:\n",
        "        primes.append(n)\n",
        "print(primes)\n",
        "```"
      ],
      "metadata": {
        "id": "_W0c2ALpzJeY"
      }
    },
    {
      "cell_type": "markdown",
      "source": [
        "Answer:\n",
        "[2, 3, 5, 7, 11, 13, 17, 19, 23, 29, 31, 37, 41, 43, 47, 53, 59, 61, 67, 71, 73, 79, 83, 89, 97]"
      ],
      "metadata": {
        "id": "3NSYxYUnzQuq"
      }
    },
    {
      "cell_type": "markdown",
      "source": [
        "# B3"
      ],
      "metadata": {
        "id": "fXFgexl-zSTD"
      }
    },
    {
      "cell_type": "markdown",
      "source": [
        "- B3.What is the output of this code in Python?explain it.\n",
        "```\n",
        "cubes = [x**3 for x in range(1,6)]\n",
        "print(cubes)\n",
        "```"
      ],
      "metadata": {
        "id": "f6dVQT_WzUTa"
      }
    },
    {
      "cell_type": "markdown",
      "source": [
        "Answer:\n",
        "```\n",
        "cubes = [x**3 for x in range(1,6)]\n",
        "print(cubes)\n",
        "[1, 8, 27, 64, 125]\n",
        "= 2**3\n",
        "= 8\n",
        "```"
      ],
      "metadata": {
        "id": "j3gmwvFF4dx5"
      }
    },
    {
      "cell_type": "markdown",
      "source": [
        "# C. Programming Python"
      ],
      "metadata": {
        "id": "SNka0dn3Emgc"
      }
    },
    {
      "cell_type": "markdown",
      "source": [
        "```\n",
        "The Fibonacci numbers may be defined by the recurrence relation\n",
        " F_{0}=0, F_{1}=1\n",
        "and\n",
        "F_{n} = F_{n-1} + F_{n-2}   for n > 1.\n",
        "\n",
        "0,1,1,2,3,5,8,......\n",
        "\n",
        "Under some older definitions, the value  F_{0}=0 is omitted, \n",
        "so that the sequence starts with F_{1}=F_{2}=1 and \n",
        "the recurrence F_{n}=F_{n-1}+F_{n-2} is valid for n > 2\n",
        "\n",
        "(1)Write a Python function/Program to Find Fibonacci Numbers using Recursion\n",
        "(2)use iterative Approach To Find the nth Term Of Fibonacci Sequence(You need to write a function using loop)\n",
        "```"
      ],
      "metadata": {
        "id": "FBjJN3zVD3sD"
      }
    },
    {
      "cell_type": "code",
      "source": [
        "1.\n",
        "def f(n):\n",
        "  if n == 0:\n",
        "    return 0\n",
        "  if n == 1:\n",
        "    return 1\n",
        "  else:\n",
        "    return f(n-1) + f(n-2)\n",
        "\n",
        "f(6) #in this code note that the n starts at 0"
      ],
      "metadata": {
        "colab": {
          "base_uri": "https://localhost:8080/"
        },
        "id": "ls3qZLEqEBct",
        "outputId": "a5957b39-ebe9-42bb-fe79-70a87014e55b"
      },
      "execution_count": null,
      "outputs": [
        {
          "output_type": "execute_result",
          "data": {
            "text/plain": [
              "8"
            ]
          },
          "metadata": {},
          "execution_count": 1
        }
      ]
    },
    {
      "cell_type": "code",
      "source": [
        "2.\n",
        "def f(n):\n",
        "  a = 0\n",
        "  b = 1\n",
        "  if n == 0:\n",
        "    return a\n",
        "  if n == 1:\n",
        "    return b\n",
        "  else:\n",
        "    for i in range(2,n):\n",
        "        c = a + b\n",
        "        a = b\n",
        "        b = c\n",
        "    return b\n",
        "f(7) #in this code note that the n starts at 1"
      ],
      "metadata": {
        "colab": {
          "base_uri": "https://localhost:8080/"
        },
        "id": "q0Oivgy3EDwl",
        "outputId": "4e54b3f9-8ebd-49ed-adc4-bf2d9f886539"
      },
      "execution_count": null,
      "outputs": [
        {
          "output_type": "execute_result",
          "data": {
            "text/plain": [
              "8"
            ]
          },
          "metadata": {},
          "execution_count": 2
        }
      ]
    }
  ]
}